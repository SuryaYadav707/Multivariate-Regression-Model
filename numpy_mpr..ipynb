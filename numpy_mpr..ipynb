{
 "cells": [
  {
   "cell_type": "code",
   "execution_count": 2,
   "id": "57c1b8af",
   "metadata": {},
   "outputs": [],
   "source": [
    "# numpy_mpr.py\n",
    "\n",
    "class CustomNumpy:\n",
    "    @staticmethod\n",
    "    def dot(X, theta):\n",
    "        # Custom implementation of dot product\n",
    "        if len(X.shape) == 1:\n",
    "            return sum(X * theta)\n",
    "        else:\n",
    "            return [sum(row * theta) for row in X]\n",
    "\n",
    "    @staticmethod\n",
    "    def sum(X):\n",
    "        # Custom implementation of sum\n",
    "        total = 0\n",
    "        for element in X:\n",
    "            total += element\n",
    "        return total\n",
    "\n",
    "    @staticmethod\n",
    "    def mean(X, axis=None):\n",
    "        # Custom implementation of mean\n",
    "        if axis is None:\n",
    "            return CustomNumpy.sum(X) / len(X)\n",
    "        elif axis == 0:\n",
    "            return [CustomNumpy.mean(col) for col in zip(*X)]\n",
    "        elif axis == 1:\n",
    "            return [CustomNumpy.mean(row) for row in X]\n",
    "\n",
    "    @staticmethod\n",
    "    def zeros(shape, dtype=None):\n",
    "        # Custom implementation of zeros\n",
    "        if dtype is None:\n",
    "            return [0] * shape[0]\n",
    "        else:\n",
    "            return [dtype(0)] * shape[0]\n",
    "\n",
    "    @staticmethod\n",
    "    def sqrt(X):\n",
    "        # Custom implementation of square root\n",
    "        return [x ** 0.5 for x in X]\n"
   ]
  },
  {
   "cell_type": "code",
   "execution_count": null,
   "id": "dc5b8a1a",
   "metadata": {},
   "outputs": [],
   "source": []
  }
 ],
 "metadata": {
  "kernelspec": {
   "display_name": "Python 3 (ipykernel)",
   "language": "python",
   "name": "python3"
  },
  "language_info": {
   "codemirror_mode": {
    "name": "ipython",
    "version": 3
   },
   "file_extension": ".py",
   "mimetype": "text/x-python",
   "name": "python",
   "nbconvert_exporter": "python",
   "pygments_lexer": "ipython3",
   "version": "3.10.9"
  }
 },
 "nbformat": 4,
 "nbformat_minor": 5
}
