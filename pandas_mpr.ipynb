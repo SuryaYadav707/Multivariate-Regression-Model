{
 "cells": [
  {
   "cell_type": "code",
   "execution_count": 3,
   "id": "eeca79ee",
   "metadata": {},
   "outputs": [],
   "source": [
    "class CustomPandas:\n",
    "    @staticmethod\n",
    "    def read_csv(filename):\n",
    "        # Custom implementation of reading CSV\n",
    "        data = []\n",
    "        with open(filename, 'r') as file:\n",
    "            for line in file:\n",
    "                data.append(line.strip().split(','))\n",
    "        return data\n",
    "\n",
    "    @staticmethod\n",
    "    def drop(df, columns, axis=0):\n",
    "        # Custom implementation of dropping columns\n",
    "        if isinstance(df, list):\n",
    "            if axis == 0:\n",
    "                return [row for i, row in enumerate(df) if i not in columns]\n",
    "            elif axis == 1:\n",
    "                return [[val for j, val in enumerate(row) if j != columns] for row in df]\n",
    "        else:  # Assume DataFrame\n",
    "            return df.drop(columns=columns, axis=axis)\n",
    "\n",
    "    @staticmethod\n",
    "    def values(df):\n",
    "        # Custom implementation of getting DataFrame values\n",
    "        if isinstance(df, list):\n",
    "            return df\n",
    "        else:  # Assume DataFrame\n",
    "            return df.values.tolist()\n",
    "\n",
    "    @staticmethod\n",
    "    def reshape(df, shape):\n",
    "        # Custom implementation of reshaping DataFrame\n",
    "        if isinstance(df, list):\n",
    "            return [df[i * shape[1]:(i + 1) * shape[1]] for i in range(len(df) // shape[1])]\n",
    "        else:  # Assume DataFrame\n",
    "            return df.values.reshape(shape).tolist()\n",
    "\n",
    "    @staticmethod\n",
    "    def to_dataframe(data):\n",
    "        # Custom implementation to convert list to DataFrame\n",
    "        num_cols = len(data[0])\n",
    "        col_names = [f\"col_{i}\" for i in range(num_cols)]\n",
    "        df_dict = {col_name: [] for col_name in col_names}\n",
    "\n",
    "        for row in data:\n",
    "            for i, val in enumerate(row):\n",
    "                df_dict[f\"col_{i}\"].append(val)\n",
    "\n",
    "        return df_dict\n"
   ]
  },
  {
   "cell_type": "code",
   "execution_count": null,
   "id": "798db6fe",
   "metadata": {},
   "outputs": [],
   "source": []
  }
 ],
 "metadata": {
  "kernelspec": {
   "display_name": "Python 3 (ipykernel)",
   "language": "python",
   "name": "python3"
  },
  "language_info": {
   "codemirror_mode": {
    "name": "ipython",
    "version": 3
   },
   "file_extension": ".py",
   "mimetype": "text/x-python",
   "name": "python",
   "nbconvert_exporter": "python",
   "pygments_lexer": "ipython3",
   "version": "3.10.9"
  }
 },
 "nbformat": 4,
 "nbformat_minor": 5
}
